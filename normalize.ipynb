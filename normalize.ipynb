{
 "cells": [
  {
   "cell_type": "code",
   "execution_count": 1,
   "metadata": {},
   "outputs": [
    {
     "name": "stdout",
     "output_type": "stream",
     "text": [
      ".. _california_housing_dataset:\n",
      "\n",
      "California Housing dataset\n",
      "--------------------------\n",
      "\n",
      "**Data Set Characteristics:**\n",
      "\n",
      "    :Number of Instances: 20640\n",
      "\n",
      "    :Number of Attributes: 8 numeric, predictive attributes and the target\n",
      "\n",
      "    :Attribute Information:\n",
      "        - MedInc        median income in block group\n",
      "        - HouseAge      median house age in block group\n",
      "        - AveRooms      average number of rooms per household\n",
      "        - AveBedrms     average number of bedrooms per household\n",
      "        - Population    block group population\n",
      "        - AveOccup      average number of household members\n",
      "        - Latitude      block group latitude\n",
      "        - Longitude     block group longitude\n",
      "\n",
      "    :Missing Attribute Values: None\n",
      "\n",
      "This dataset was obtained from the StatLib repository.\n",
      "https://www.dcc.fc.up.pt/~ltorgo/Regression/cal_housing.html\n",
      "\n",
      "The target variable is the median house value for California districts,\n",
      "expressed in hundreds of thousands of dollars ($100,000).\n",
      "\n",
      "This dataset was derived from the 1990 U.S. census, using one row per census\n",
      "block group. A block group is the smallest geographical unit for which the U.S.\n",
      "Census Bureau publishes sample data (a block group typically has a population\n",
      "of 600 to 3,000 people).\n",
      "\n",
      "A household is a group of people residing within a home. Since the average\n",
      "number of rooms and bedrooms in this dataset are provided per household, these\n",
      "columns may take surprisingly large values for block groups with few households\n",
      "and many empty houses, such as vacation resorts.\n",
      "\n",
      "It can be downloaded/loaded using the\n",
      ":func:`sklearn.datasets.fetch_california_housing` function.\n",
      "\n",
      ".. topic:: References\n",
      "\n",
      "    - Pace, R. Kelley and Ronald Barry, Sparse Spatial Autoregressions,\n",
      "      Statistics and Probability Letters, 33 (1997) 291-297\n",
      "\n"
     ]
    }
   ],
   "source": [
    "import numpy as np\n",
    "from sklearn import preprocessing\n",
    "from sklearn.datasets import fetch_california_housing\n",
    "\n",
    "# create the DataFrame\n",
    "california_housing = fetch_california_housing(as_frame=True)\n",
    "\n",
    "# print the dataset description\n",
    "print(california_housing.DESCR)"
   ]
  },
  {
   "cell_type": "markdown",
   "metadata": {},
   "source": [
    "### Normalizing Columns from a DataFrame Using the normalize() Function"
   ]
  },
  {
   "cell_type": "code",
   "execution_count": 2,
   "metadata": {},
   "outputs": [
    {
     "name": "stdout",
     "output_type": "stream",
     "text": [
      "HouseAge array:  [41. 21. 52. ... 17. 18. 16.]\n",
      "Normalized HouseAge array:  [[0.00912272 0.00467261 0.01157028 ... 0.00378259 0.0040051  0.00356009]]\n"
     ]
    }
   ],
   "source": [
    "x_array = np.array(california_housing.data['HouseAge'])\n",
    "print(\"HouseAge array: \",x_array)\n",
    "\n",
    "normalized_arr = preprocessing.normalize([x_array])\n",
    "print(\"Normalized HouseAge array: \",normalized_arr)"
   ]
  },
  {
   "cell_type": "markdown",
   "metadata": {},
   "source": [
    "### Normalizing Datasets by Row or by Column Using the normalize() Function"
   ]
  },
  {
   "cell_type": "code",
   "execution_count": 3,
   "metadata": {},
   "outputs": [
    {
     "name": "stdout",
     "output_type": "stream",
     "text": [
      "         MedInc  HouseAge  AveRooms  AveBedrms  Population  AveOccup  \\\n",
      "0      0.013440  0.009123  0.008148   0.005965    0.001231  0.001642   \n",
      "1      0.013401  0.004673  0.007278   0.005662    0.009180  0.001356   \n",
      "2      0.011716  0.011570  0.009670   0.006254    0.001896  0.001801   \n",
      "3      0.009110  0.011570  0.006787   0.006252    0.002133  0.001638   \n",
      "4      0.006209  0.011570  0.007329   0.006299    0.002160  0.001402   \n",
      "...         ...       ...       ...        ...         ...       ...   \n",
      "20635  0.002519  0.005563  0.005886   0.006603    0.003231  0.001646   \n",
      "20636  0.004128  0.004005  0.007133   0.007666    0.001361  0.002007   \n",
      "20637  0.002744  0.003783  0.006073   0.006526    0.003850  0.001495   \n",
      "20638  0.003014  0.004005  0.006218   0.006828    0.002833  0.001365   \n",
      "20639  0.003856  0.003560  0.006131   0.006772    0.005303  0.001682   \n",
      "\n",
      "       Latitude  Longitude  \n",
      "0      0.007386  -0.007114  \n",
      "1      0.007383  -0.007114  \n",
      "2      0.007381  -0.007115  \n",
      "3      0.007381  -0.007116  \n",
      "4      0.007381  -0.007116  \n",
      "...         ...        ...  \n",
      "20635  0.007698  -0.007048  \n",
      "20636  0.007700  -0.007055  \n",
      "20637  0.007689  -0.007056  \n",
      "20638  0.007689  -0.007061  \n",
      "20639  0.007677  -0.007057  \n",
      "\n",
      "[20640 rows x 8 columns]\n"
     ]
    }
   ],
   "source": [
    "import pandas as pd\n",
    "\n",
    "california_housing = fetch_california_housing(as_frame=True)\n",
    "\n",
    "d = preprocessing.normalize(california_housing.data, axis=0)\n",
    "scaled_df = pd.DataFrame(d, columns=california_housing.data.columns)\n",
    "print(scaled_df)"
   ]
  },
  {
   "cell_type": "markdown",
   "metadata": {},
   "source": [
    "Hasil normalisasi kolom \"HouseAge\" sama seperti kode diatas"
   ]
  },
  {
   "cell_type": "markdown",
   "metadata": {},
   "source": [
    "### Using the scikit-learn preprocessing.MinMaxScaler() Function to Normalize Data"
   ]
  },
  {
   "cell_type": "code",
   "execution_count": 4,
   "metadata": {},
   "outputs": [
    {
     "name": "stdout",
     "output_type": "stream",
     "text": [
      "         MedInc  HouseAge  AveRooms  AveBedrms  Population  AveOccup  \\\n",
      "0      0.539668  0.784314  0.043512   0.020469    0.008941  0.001499   \n",
      "1      0.538027  0.392157  0.038224   0.018929    0.067210  0.001141   \n",
      "2      0.466028  1.000000  0.052756   0.021940    0.013818  0.001698   \n",
      "3      0.354699  1.000000  0.035241   0.021929    0.015555  0.001493   \n",
      "4      0.230776  1.000000  0.038534   0.022166    0.015752  0.001198   \n",
      "...         ...       ...       ...        ...         ...       ...   \n",
      "20635  0.073130  0.470588  0.029769   0.023715    0.023599  0.001503   \n",
      "20636  0.141853  0.333333  0.037344   0.029124    0.009894  0.001956   \n",
      "20637  0.082764  0.313725  0.030904   0.023323    0.028140  0.001314   \n",
      "20638  0.094295  0.333333  0.031783   0.024859    0.020684  0.001152   \n",
      "20639  0.130253  0.294118  0.031252   0.024573    0.038790  0.001549   \n",
      "\n",
      "       Latitude  Longitude  \n",
      "0      0.567481   0.211155  \n",
      "1      0.565356   0.212151  \n",
      "2      0.564293   0.210159  \n",
      "3      0.564293   0.209163  \n",
      "4      0.564293   0.209163  \n",
      "...         ...        ...  \n",
      "20635  0.737513   0.324701  \n",
      "20636  0.738576   0.312749  \n",
      "20637  0.732200   0.311753  \n",
      "20638  0.732200   0.301793  \n",
      "20639  0.725824   0.309761  \n",
      "\n",
      "[20640 rows x 8 columns]\n"
     ]
    }
   ],
   "source": [
    "scaler = preprocessing.MinMaxScaler()\n",
    "#atau bisa ditentukan min dan max-nya berapa\n",
    "# scaler = preprocessing.MinMaxScaler(feature_range=(0, 2))\n",
    "\n",
    "d = scaler.fit_transform(california_housing.data)\n",
    "scaled_df = pd.DataFrame(d, columns=california_housing.data.columns)\n",
    "print(scaled_df)"
   ]
  }
 ],
 "metadata": {
  "kernelspec": {
   "display_name": "base",
   "language": "python",
   "name": "python3"
  },
  "language_info": {
   "codemirror_mode": {
    "name": "ipython",
    "version": 3
   },
   "file_extension": ".py",
   "mimetype": "text/x-python",
   "name": "python",
   "nbconvert_exporter": "python",
   "pygments_lexer": "ipython3",
   "version": "3.11.5"
  }
 },
 "nbformat": 4,
 "nbformat_minor": 2
}
